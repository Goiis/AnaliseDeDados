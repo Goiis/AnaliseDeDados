{
 "cells": [
  {
   "cell_type": "markdown",
   "metadata": {},
   "source": [
    "# Estabeleça"
   ]
  },
  {
   "cell_type": "markdown",
   "metadata": {},
   "source": [
    "Podemos obeservar que o problema que encaramos é difícil de se calcular por diversos fatores tais como: não se sabe ao certo o tamanho das árvores, também não temos completa certeza de como o terreno era antes da extração e nem como poderia ter sido sem ela."
   ]
  },
  {
   "cell_type": "markdown",
   "metadata": {},
   "source": [
    "# Planeje"
   ]
  },
  {
   "cell_type": "markdown",
   "metadata": {},
   "source": [
    " As funções utilizadas para que a estatísticas estejam altamente definidas e de fácil compreensão são: Maximo, Terceiro Quartil, Mediana,Primeiro Quartil e Minimo.\n"
   ]
  },
  {
   "cell_type": "markdown",
   "metadata": {},
   "source": [
    "# Resolva"
   ]
  },
  {
   "cell_type": "code",
   "execution_count": 22,
   "metadata": {
    "collapsed": false
   },
   "outputs": [
    {
     "data": {
      "image/png": "[encoded data removed]",
      "text/plain": [
       "<matplotlib.figure.Figure at 0x219ae0c76d8>"
      ]
     },
     "metadata": {},
     "output_type": "display_data"
    }
   ],
   "source": [
    "import matplotlib.pyplot as plt\n",
    "%matplotlib inline\n",
    "\n",
    "grupo1= [27, 22, 29, 21, 19, 33, 16, 20, 24, 27, 28, 19]\n",
    "grupo2=[12, 12, 15, 9, 20, 18, 17, 14, 14, 2, 17, 19]\n",
    "grupo3=[18 ,4, 22, 15, 18, 19, 22, 12, 12]\n",
    "\n",
    "#Tamanho da Figura\n",
    "fig = plt.figure(3, figsize=(9,5))\n",
    "\n",
    "Q = [1,2,3]\n",
    "\n",
    "#Atribui nome aos gráficos\n",
    "ax = fig.add_subplot(111)\n",
    "ax.set_xticklabels([\"Grupo 1\",\"Grupo 2\", \"Grupo 3\"])\n",
    "\n",
    "\n",
    "plt.boxplot([grupo1,grupo2,grupo3])\n",
    "\n",
    "plt.title(\"Gráficos \\n Extração de madeira\")\n",
    "plt.xlabel(\"Grupos de árvores\")\n",
    "plt.ylabel(\"Quantidade de árvores por 0,1 Hectare\")\n",
    "\n",
    "\n",
    "plt.show()"
   ]
  },
  {
   "cell_type": "markdown",
   "metadata": {},
   "source": [
    "# Conclusão"
   ]
  },
  {
   "cell_type": "markdown",
   "metadata": {},
   "source": [
    "Pode-se concluir a partir das amostras que a quantidade de árvores depois de uma queimada diminui intensamente, mesmo após 8 anos, a área não se recuperou por conpleto, segundo os dados."
   ]
  }
 ],
 "metadata": {
  "kernelspec": {
   "display_name": "Python [Root]",
   "language": "python",
   "name": "Python [Root]"
  },
  "language_info": {
   "codemirror_mode": {
    "name": "ipython",
    "version": 3
   },
   "file_extension": ".py",
   "mimetype": "text/x-python",
   "name": "python",
   "nbconvert_exporter": "python",
   "pygments_lexer": "ipython3",
   "version": "3.5.2"
  }
 },
 "nbformat": 4,
 "nbformat_minor": 0
}
